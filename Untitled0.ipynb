{
  "nbformat": 4,
  "nbformat_minor": 0,
  "metadata": {
    "colab": {
      "provenance": [],
      "authorship_tag": "ABX9TyMo4wDbD6KbuG5MLLWEQquw",
      "include_colab_link": true
    },
    "kernelspec": {
      "name": "python3",
      "display_name": "Python 3"
    },
    "language_info": {
      "name": "python"
    }
  },
  "cells": [
    {
      "cell_type": "markdown",
      "metadata": {
        "id": "view-in-github",
        "colab_type": "text"
      },
      "source": [
        "<a href=\"https://colab.research.google.com/github/JuanCordobach/Reto-8/blob/main/Untitled0.ipynb\" target=\"_parent\"><img src=\"https://colab.research.google.com/assets/colab-badge.svg\" alt=\"Open In Colab\"/></a>"
      ]
    },
    {
      "cell_type": "markdown",
      "source": [
        "Reto 8"
      ],
      "metadata": {
        "id": "c5N7tem5zi65"
      }
    },
    {
      "cell_type": "markdown",
      "source": [
        "\n",
        "1.De los retos anteriores selecione 3 funciones y escribalas en forma de lambdas.\n",
        "\n"
      ],
      "metadata": {
        "id": "YFkhe-xV0YWl"
      }
    },
    {
      "cell_type": "markdown",
      "source": [
        "1.1"
      ],
      "metadata": {
        "id": "UAu0aeVc0l7B"
      }
    },
    {
      "cell_type": "code",
      "source": [
        "# Extraído del Reto 5 punto 2\n",
        "\n",
        "# Funcion tradicional para calcular el area de un rectangulo\n",
        "def area_perimetro_rectangulo(base:float, altura:float) -> float:\n",
        "  area_rectangulo = base*altura\n",
        "  perimetro_rectangulo = base*2+altura*2\n",
        "  return area_rectangulo, perimetro_rectangulo\n",
        "\n",
        "# Función Lambda para calcular el cuadrado de un número\n",
        "area = lambda x,y : x*y\n",
        "print(area(3,4)) #Resultado para comprobar la función\n"
      ],
      "metadata": {
        "colab": {
          "base_uri": "https://localhost:8080/"
        },
        "id": "toejPSujzivy",
        "outputId": "095ed8b4-e719-4c9d-c90d-dd1cce54d840"
      },
      "execution_count": 2,
      "outputs": [
        {
          "output_type": "stream",
          "name": "stdout",
          "text": [
            "12\n"
          ]
        }
      ]
    },
    {
      "cell_type": "markdown",
      "source": [
        "1.2"
      ],
      "metadata": {
        "id": "uyP6HsOu0nu4"
      }
    },
    {
      "cell_type": "code",
      "execution_count": 3,
      "metadata": {
        "colab": {
          "base_uri": "https://localhost:8080/"
        },
        "id": "Oy0Cg9JrzhON",
        "outputId": "57051a89-b490-4855-d788-d1045f983578"
      },
      "outputs": [
        {
          "output_type": "stream",
          "name": "stdout",
          "text": [
            "Ingrese el monto inicial del prestamo: 1234\n",
            "Ingrese la tasa de interes anual sin el simbolo porcentaje: 13\n",
            "Ingrese el número de meses que se llevará el prestamo: 12\n",
            "El valor final del préstamo después de  12  meses es:  1404.3320823115243\n"
          ]
        }
      ],
      "source": [
        "if __name__ == \"__main__\":\n",
        "    Capita = float(input(\"Ingrese el monto inicial del prestamo: \"))\n",
        "    int_anual = float(input(\"Ingrese la tasa de interes anual sin el simbolo porcentaje: \"))\n",
        "    meses = int(input(\"Ingrese el número de meses que se llevará el prestamo: \"))\n",
        "    #funcion para calcular el interes compuesto\n",
        "    valorFinal = (lambda p, i, n: p * (1 +(i/100/12)) **n)(Capita, int_anual, meses)\n",
        "    # el interes i se convierte a interés a mensual. Con la formula de interes\n",
        "    # compuesto se calcula a que valor llegara el prestamo tras los n meses\n",
        "    print(\"El valor final del préstamo después de \", meses ,\" meses es: \", valorFinal)"
      ]
    },
    {
      "cell_type": "markdown",
      "source": [
        "1.3"
      ],
      "metadata": {
        "id": "AOz2zIz50o_x"
      }
    },
    {
      "cell_type": "code",
      "source": [
        "# Funcion tradicional para calcular la raíz cúbica del menor número\n",
        "def raiz_cubica(n1: float, n2:float, n3:float, n4:float, n5: float):\n",
        "  menor = min(n1,n2,n3,n4,n5)\n",
        "  raiz_cub = menor**3\n",
        "  return raiz_cub\n",
        "\n",
        "# Función Lambda para calcular la raíz cúbica del menor número\n",
        "raiz_cubica = lambda n1, n2, n3, n4, n5: min(n1, n2, n3, n4, n5) ** 3.0\n",
        "print(raiz_cubica(56,86,78,45,98)) #Resultado para comprobar la función"
      ],
      "metadata": {
        "colab": {
          "base_uri": "https://localhost:8080/"
        },
        "id": "nEpJNgY00VGh",
        "outputId": "516d7aae-08e7-47ba-911c-f00bce546371"
      },
      "execution_count": 1,
      "outputs": [
        {
          "output_type": "stream",
          "name": "stdout",
          "text": [
            "91125.0\n"
          ]
        }
      ]
    },
    {
      "cell_type": "markdown",
      "source": [
        "2.De los retos anteriores selecione 3 funciones y escribalas con argumentos no definidos (*args)."
      ],
      "metadata": {
        "id": "3uNfplpa0qZF"
      }
    },
    {
      "cell_type": "markdown",
      "source": [
        "2.1"
      ],
      "metadata": {
        "id": "2Sgkqg1c1asg"
      }
    },
    {
      "cell_type": "code",
      "source": [
        "def calcular_promedio(*args)-> int: #Declarar función sin argumentos definidos\n",
        "  promedio = (sum(args))/5\n",
        "  return promedio\n",
        "\n",
        "if __name__ == \"__main__\": #Programa principal para solicitar datos\n",
        "  a = int(input(\"Ingrese numero a: \"))\n",
        "  b = int(input(\"Ingrese numero b: \"))\n",
        "  c = int(input(\"Ingrese numero c: \"))\n",
        "  d = int(input(\"Ingrese numero d: \"))\n",
        "  e = int(input(\"Ingrese numero e: \"))\n",
        "\n",
        "print(\"El promedio es:\", calcular_promedio(a,b,c,d,e)) #Respuesta"
      ],
      "metadata": {
        "id": "cbZNqItE0pxy"
      },
      "execution_count": null,
      "outputs": []
    },
    {
      "cell_type": "markdown",
      "source": [
        "2.2"
      ],
      "metadata": {
        "id": "WH-swVkh1buH"
      }
    },
    {
      "cell_type": "code",
      "source": [
        "import math\n",
        "\n",
        "def calcular_perimetro_rectangulo(*args):\n",
        "    a, b = args  # Desempaquetamos los argumentos\n",
        "    perimetro_rectangulo = 2 * (a + b)\n",
        "    return perimetro_rectangulo\n",
        "\n",
        "def calcular_area_rectangulo(*args):\n",
        "    a, b = args  # Desempaquetamos los argumentos\n",
        "    area_rectangulo = a * b\n",
        "    return area_rectangulo\n",
        "\n",
        "if __name__ == \"__main__\":\n",
        "    a = float(input(\"Ingrese el primer lado del rectángulo: \"))\n",
        "    b = float(input(\"Ingrese el segundo lado del rectángulo: \"))\n",
        "    r = float(input(\"Ingrese el radio de los círculos: \"))\n",
        "\n",
        "    if a > 0 and b > 0 and r > 0:\n",
        "        # Llamadas a las funciones pasando los argumentos con *args\n",
        "        perimetro_rectangulo = calcular_perimetro_rectangulo(a, b)\n",
        "        area_rectangulo = calcular_area_rectangulo(a, b)\n",
        "\n",
        "        print(\"El perímetro del rectángulo es:\", perimetro_rectangulo)\n",
        "        print(\"El área del rectángulo es:\", area_rectangulo)\n",
        "\n",
        "    else:\n",
        "        print(\"El radio y los lados deben ser números positivos.\")"
      ],
      "metadata": {
        "id": "X_bXvOWo1dEI"
      },
      "execution_count": 8,
      "outputs": []
    },
    {
      "cell_type": "markdown",
      "source": [
        "2.3"
      ],
      "metadata": {
        "id": "AoU9N1701jvX"
      }
    },
    {
      "cell_type": "code",
      "source": [
        "def calcular_promedio_mul(*args):\n",
        "    producto = 1  # Inicializar el producto\n",
        "    for num in args:\n",
        "        producto *= num  # Multiplicar cada número\n",
        "    promedio_mul = producto ** (1 / 5)  # Calcular la raíz\n",
        "    return promedio_mul\n",
        "\n",
        "if __name__ == \"__main__\": #Programa principal para solicitar datos\n",
        "  a = int(input(\"Ingrese numero a: \"))\n",
        "  b = int(input(\"Ingrese numero b: \"))\n",
        "  c = int(input(\"Ingrese numero c: \"))\n",
        "  d = int(input(\"Ingrese numero d: \"))\n",
        "  e = int(input(\"Ingrese numero e: \"))\n",
        "\n",
        "print(\"El promedio es:\", calcular_promedio_mul(a,b,c,d,e)) #Respuesta"
      ],
      "metadata": {
        "colab": {
          "base_uri": "https://localhost:8080/"
        },
        "id": "2NTidV522qoG",
        "outputId": "9662c3b6-7996-4502-fc9d-c21f64c4651f"
      },
      "execution_count": 9,
      "outputs": [
        {
          "output_type": "stream",
          "name": "stdout",
          "text": [
            "Ingrese numero a: 2\n",
            "Ingrese numero b: 3\n",
            "Ingrese numero c: 4\n",
            "Ingrese numero d: 5\n",
            "Ingrese numero e: 6\n",
            "El promedio es: 3.7279192731913517\n"
          ]
        }
      ]
    },
    {
      "cell_type": "markdown",
      "source": [
        "3.Escriba una función recursiva para calcular la operación de la potencia."
      ],
      "metadata": {
        "id": "2jzQZwo13vl_"
      }
    },
    {
      "cell_type": "code",
      "source": [
        "def potencia(base: float, exponente: int) -> float:\n",
        "  if exponente == 0:# Caso base: cualquier número elevado a la potencia 0 es 1\n",
        "      return 1\n",
        "  else:\n",
        "      exponente > 0 # Caso recursivo: base * potencia(base, exponente - 1)\n",
        "  return base * potencia(base, exponente - 1)\n",
        "\n",
        "if __name__ == \"__main__\":\n",
        "  base = float(input(\"Ingrese la base: \"))\n",
        "  exponente = int(input(\"Ingrese el exponente: \"))\n",
        "  resultado = potencia(base, exponente)\n",
        "  print(base,\" elevado a\" ,exponente ,\"es:\", resultado)"
      ],
      "metadata": {
        "colab": {
          "base_uri": "https://localhost:8080/"
        },
        "id": "cAbMwxjx3zsk",
        "outputId": "947205f2-33c5-4814-c548-6b21dc4364d8"
      },
      "execution_count": 10,
      "outputs": [
        {
          "output_type": "stream",
          "name": "stdout",
          "text": [
            "Ingrese la base: 12\n",
            "Ingrese el exponente: 43\n",
            "12.0  elevado a 43 es: 2.5397652694505816e+46\n"
          ]
        }
      ]
    },
    {
      "cell_type": "markdown",
      "source": [
        "4.Utilice la siguiente plantilla de code para contar el tiempo:\n",
        "import time\n",
        "\n",
        "start_time = time.time()\n",
        "instrucciones sobre las cuales se quiere medir tiempo de ejecución\n",
        "end_time = time.time()\n",
        "\n",
        "timer = end_time - start_time\n",
        "print(timer)"
      ],
      "metadata": {
        "id": "LdljvGb837ps"
      }
    },
    {
      "cell_type": "code",
      "source": [
        "import time\n",
        "\n",
        "# Función de Fibonacci usando recursión\n",
        "def fibo_recursivo(n):\n",
        "    if n <= 1:\n",
        "        return n\n",
        "    else:\n",
        "        return fibo_recursivo(n-1) + fibo_recursivo(n-2)\n",
        "\n",
        "# Función de Fibonacci usando iteración\n",
        "def fibo_iterativo(n):\n",
        "    a, b = 0, 1\n",
        "    for _ in range(n):\n",
        "        a, b = b, a + b\n",
        "    return a\n",
        "\n",
        "# Medir el tiempo de ejecución para la versión recursiva\n",
        "def medir_tiempos():\n",
        "    for n in range(20, 51, 5):  # Probar para números de 20 a 50\n",
        "        inicio_tiempo = time.time()\n",
        "        fibo_recursivo(n)\n",
        "        fin_tiempo = time.time()\n",
        "        tiempo_recursivo = fin_tiempo - inicio_tiempo\n",
        "\n",
        "        inicio_tiempo = time.time()\n",
        "        fibo_iterativo(n)\n",
        "        fin_tiempo = time.time()\n",
        "        tiempo_iterativo = fin_tiempo - inicio_tiempo\n",
        "\n",
        "        print(\"n =\", n, \"\\n Recursivo:\", tiempo_recursivo, \"segundos,\", \"\\n Iterativo:\", tiempo_iterativo, \"segundos\")  # Imprimir el resultado\n",
        "\n",
        "def diferencia_significativa(tiempo_recursivo,tiempo_iterativo, n):\n",
        "  if tiempo_recursivo > tiempo_iterativo:\n",
        "            print(\"   Diferencia significativa en n =\", n, \"\\n\")  # Marca el n que está evaluando\n",
        "\n",
        "\n",
        "if __name__ == \"__main__\":\n",
        "    medir_tiempos()"
      ],
      "metadata": {
        "id": "Nnbrvp7J37Wd"
      },
      "execution_count": null,
      "outputs": []
    }
  ]
}